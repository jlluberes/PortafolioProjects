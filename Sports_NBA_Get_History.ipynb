{
 "cells": [
  {
   "cell_type": "code",
   "execution_count": 1,
   "metadata": {},
   "outputs": [],
   "source": [
    "import numpy as np\n",
    "import requests\n",
    "from bs4 import BeautifulSoup\n",
    "import pandas as pd\n",
    "from tqdm import tqdm\n"
   ]
  },
  {
   "cell_type": "markdown",
   "metadata": {},
   "source": [
    "# Defining teams and codes"
   ]
  },
  {
   "cell_type": "code",
   "execution_count": 2,
   "metadata": {},
   "outputs": [],
   "source": [
    "dict_longteam_to_shortteam = {'atlanta-hawks':'ATL','boston-celtics':'BOS','brooklyn-nets':'BK','charlotte-hornets':'CHA',\n",
    "                              'chicago-bulls':'CHI','cleveland-cavaliers':'CLE','dallas-mavericks':'DAL','denver-nuggets':'DEN',\n",
    "                              'detroit-pistons':'DET','golden-state-warriors':'GS','houston-rockets':'HOU','indiana-pacers':'IND',\n",
    "                              'los-angeles-clippers':'LAC','los-angeles-lakers':'LAL','memphis-grizzlies':'MEM','miami-heat':'MIA',\n",
    "                              'milwaukee-bucks':'MIL','minnesota-timberwolves':'MIN','new-orleans-pelicans':'NO','new-york-knicks':'NY',\n",
    "                              'oklahoma-city-thunder':'OKC','orlando-magic':'ORL','philadelphia-76ers':'PHI','phoenix-suns':'PHO',\n",
    "                              'portland-trail-blazers':'POR','sacramento-kings':'SAC','san-antonio-spurs':'SA','toronto-raptors':'TOR',\n",
    "                              'utah-jazz':'UTA','washington-wizards':'WAS',\n",
    "                             }\n",
    "\n",
    "dict_shortteam_to_codeteam = {'ATL':1001,'BOS':1002,'BK':1003,'CHA':1004,'CHI':1005,'CLE':1006,'DAL':1007,\n",
    "                              'DEN':1008,'DET':1009,'GS':1010,'HOU':1011,'IND':1012,'LAC':1013,'LAL':1014,\n",
    "                              'MEM':1015,'MIA':1016,'MIL':1017,'MIN':1018,'NO':1019,'NY':1020,'OKC':1021,\n",
    "                              'ORL':1022,'PHI':1023,'PHO':1024,'POR':1025,'SAC':1026,'SA':1027,'TOR':1028,\n",
    "                              'UTA':1029,'WAS':1030,\n",
    "                             }\n",
    "\n",
    "dict_codeteam_to_shortteam = {1001:'ATL',1002:'BOS',1003:'BK',1004:'CHA',1005:'CHI',1006:'CLE',1007:'DAL',\n",
    "                              1008:'DEN',1009:'DET',1010:'GS',1011:'HOU',1012:'IND',1013:'LAC',1014:'LAL',\n",
    "                              1015:'MEM',1016:'MIA',1017:'MIL',1018:'MIN',1019:'NO',1020:'NY',1021:'OKC',\n",
    "                              1022:'ORL',1023:'PHI',1024:'PHO',1025:'POR',1026:'SAC',1027:'SA',1028:'TOR',\n",
    "                              1029:'UTA',1030:'WAS',\n",
    "                             }\n"
   ]
  },
  {
   "cell_type": "code",
   "execution_count": null,
   "metadata": {},
   "outputs": [],
   "source": []
  },
  {
   "cell_type": "markdown",
   "metadata": {},
   "source": [
    "# Reading historical data"
   ]
  },
  {
   "cell_type": "code",
   "execution_count": 3,
   "metadata": {},
   "outputs": [
    {
     "name": "stderr",
     "output_type": "stream",
     "text": [
      "100%|██████████████████████████████████████████████████████████████████████████████████| 30/30 [00:23<00:00,  1.25it/s]\n"
     ]
    }
   ],
   "source": [
    "teams = ['new-york-knicks','brooklyn-nets','boston-celtics','philadelphia-76ers','toronto-raptors'\n",
    "        ,'chicago-bulls','cleveland-cavaliers','detroit-pistons','indiana-pacers','milwaukee-bucks'\n",
    "        ,'atlanta-hawks','charlotte-hornets','miami-heat','orlando-magic','washington-wizards'\n",
    "        ,'denver-nuggets','minnesota-timberwolves','oklahoma-city-thunder','portland-trail-blazers','utah-jazz'\n",
    "        ,'golden-state-warriors','los-angeles-clippers','los-angeles-lakers','phoenix-suns','sacramento-kings'\n",
    "        ,'dallas-mavericks','houston-rockets','memphis-grizzlies','new-orleans-pelicans','san-antonio-spurs']\n",
    "# teams = [utah-jazz']\n",
    "# seasons = ['2006-2007','2007-2008','2008-2009','2009-2010','2010-2011','2011-2012'\n",
    "#            ,'2012-2013','2013-2014','2014-2015','2015-2016','2016-2017','2017-2018','2018-2019','2019-2020',]\n",
    "seasons = ['2011-2012']\n",
    "my_columns = ['Season','Team','Date', 'VS', 'Score', 'ATS', 'O/U', 'filled-1', 'filled-2']\n",
    "df = pd.DataFrame(columns = my_columns)\n",
    "for team in tqdm(teams):\n",
    "    for season in seasons: \n",
    "        r = pd.read_html(f'https://www.covers.com/sport/basketball/nba/teams/main/{team}/{season}', match='Regular Season')\n",
    "        r[0].insert(0,'Season',int)\n",
    "        r[0].insert(1,'Team',int)\n",
    "        r[0]['Season'] = season\n",
    "        r[0]['Team'] = team\n",
    "        r[0].columns = my_columns\n",
    "        df = df.append(r[0])\n",
    "\n",
    "df.drop(['filled-1', 'filled-2'], axis=1, inplace=True)\n",
    "\n",
    "# Extracting the year to attach to the field Date\n",
    "year_season_star =df['Season'].str.split('-').str[0]\n",
    "year_season_end =df['Season'].str.split('-').str[1]\n",
    "\n",
    "# Attaching the year to the field Date\n",
    "df['Date'] = list(np.select([df['Date'].str[:3].isin(['Oct','Nov','Dec']), \n",
    "                             ~df['Date'].str[:3].isin(['Oct','Nov','Dec'])] , \n",
    "                            [df['Date']+'-'+year_season_star, df['Date']+'-'+year_season_end], default= 0))\n",
    "\n",
    "df['Date'] = pd.to_datetime(df['Date'],)\n",
    "df = df.iloc[::-1]\n",
    "df['GameCounter'] = df.groupby(['Team']).cumcount()+1\n",
    "df.set_index('GameCounter', inplace=True)\n"
   ]
  },
  {
   "cell_type": "code",
   "execution_count": 4,
   "metadata": {},
   "outputs": [],
   "source": []
  },
  {
   "cell_type": "code",
   "execution_count": 4,
   "metadata": {},
   "outputs": [],
   "source": [
    "# Updating Nets and NJ to BK; CHAR to CHA\n",
    "df['VS'] = df['VS'].str.replace('Nets', 'BK')\n",
    "df['VS'] = df['VS'].str.replace('NJ', 'BK')\n",
    "df['VS'] = df['VS'].str.replace('CHAR', 'CHA')\n",
    "\n",
    "# Changing long name in team for the short name; Creating new column codeTeam and assigning the code\n",
    "df['Team'] = df['Team'].replace(to_replace=dict_longteam_to_shortteam, value=None)\n",
    "df['codeTeam'] = df['Team'].replace(to_replace=dict_shortteam_to_codeteam, value=None)\n",
    "\n",
    "# Creating new column codeVS and assigning the code\n",
    "df['codeVS'] = df['VS']\n",
    "df['codeVS'] = df['codeVS'].str.replace('@','')\n",
    "df['codeVS'] = df['codeVS'].str.replace('NEUTRAL','')\n",
    "df['codeVS'] = df['codeVS'].str.replace(' ','')\n",
    "df['codeVS'] = df['codeVS'].replace(to_replace=dict_shortteam_to_codeteam, value=None)"
   ]
  },
  {
   "cell_type": "code",
   "execution_count": null,
   "metadata": {},
   "outputs": [],
   "source": []
  },
  {
   "cell_type": "markdown",
   "metadata": {},
   "source": [
    "# Saving the data in csv"
   ]
  },
  {
   "cell_type": "code",
   "execution_count": 8,
   "metadata": {},
   "outputs": [],
   "source": [
    "df.to_csv('Sports_NBA_History.csv')"
   ]
  },
  {
   "cell_type": "code",
   "execution_count": null,
   "metadata": {},
   "outputs": [],
   "source": []
  }
 ],
 "metadata": {
  "kernelspec": {
   "display_name": "Python 3",
   "language": "python",
   "name": "python3"
  },
  "language_info": {
   "codemirror_mode": {
    "name": "ipython",
    "version": 3
   },
   "file_extension": ".py",
   "mimetype": "text/x-python",
   "name": "python",
   "nbconvert_exporter": "python",
   "pygments_lexer": "ipython3",
   "version": "3.8.5"
  }
 },
 "nbformat": 4,
 "nbformat_minor": 4
}
