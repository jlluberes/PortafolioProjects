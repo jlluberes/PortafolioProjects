{
 "cells": [
  {
   "cell_type": "code",
   "execution_count": 1,
   "metadata": {},
   "outputs": [],
   "source": [
    "import numpy as np\n",
    "import requests\n",
    "from bs4 import BeautifulSoup\n",
    "import pandas as pd\n",
    "from tqdm import tqdm\n"
   ]
  },
  {
   "cell_type": "markdown",
   "metadata": {},
   "source": [
    "# Defining teams and codes"
   ]
  },
  {
   "cell_type": "code",
   "execution_count": 2,
   "metadata": {},
   "outputs": [],
   "source": [
    "dict_longteam_to_shortteam = {'arizona-diamondbacks':'ARI','atlanta-braves':'ATL','baltimore-orioles':'BAL','boston-red-sox':'BOS',\n",
    "                              'chicago-cubs':'CHC','chicago-white-sox':'CHW','cincinnati-reds':'CIN','cleveland-indians':'CLE',\n",
    "                              'colorado-rockies':'COL','detroit-tigers':'DET','houston-astros':'HOU','kansas-city-royals':'KC',\n",
    "                              'los-angeles-angels':'LAA','los-angeles-dodgers':'LAD','miami-marlins':'MIA','milwaukee-brewers':'MIL',\n",
    "                              'minnesota-twins':'MIN','new-york-mets':'NYM','new-york-yankees':'NYY','oakland-athletics':'OAK',\n",
    "                              'philadelphia-phillies':'PHI','pittsburgh-pirates':'PIT','san-diego-padres':'SD','san-francisco-giants':'SF',\n",
    "                              'seattle-mariners':'SEA','st.-louis-cardinals':'STL','tampa-bay-rays':'TB','texas-rangers':'TEX',\n",
    "                              'toronto-blue-jays':'TOR','washington-nationals':'WAS',\n",
    "\n",
    "                                }\n",
    "\n",
    "\n",
    "dict_shortteam_to_codeteam = {'ARI':2001,'ATL':2002,'BAL':2003,'BOS':2004,'CHC':2005,'CHW':2006,'CIN':2007,'CLE':2008,\n",
    "                              'COL':2009,'DET':2010,'HOU':2011,'KC':2012,'LAA':2013,'LAD':2014,'MIA':2015,'MIL':2016,\n",
    "                              'MIN':2017,'NYM':2018,'NYY':2019,'OAK':2020,'PHI':2021,'PIT':2022,'SD':2023,'SF':2024,\n",
    "                              'SEA':2025,'STL':2026,'TB':2027,'TEX':2028,'TOR':2029,'WAS':2030,\n",
    "                             }\n",
    "\n",
    "\n",
    "dict_codeteam_to_shortteam = {2001:'ARI',2002:'ATL',2003:'BAL',2004:'BOS',2005:'CHC',2006:'CHW',2007:'CIN',2008:'CLE',\n",
    "                              2009:'COL',2010:'DET',2011:'HOU',2012:'KC',2013:'LAA',2014:'LAD',2015:'MIA',2016:'MIL',\n",
    "                              2017:'MIN',2018:'NYM',2019:'NYY',2020:'OAK',2021:'PHI',2022:'PIT',2023:'SD',2024:'SF',\n",
    "                              2025:'SEA',2026:'STL',2027:'TB',2028:'TEX',2029:'TOR',2030:'WAS',\n",
    "                             }"
   ]
  },
  {
   "cell_type": "code",
   "execution_count": null,
   "metadata": {},
   "outputs": [],
   "source": []
  },
  {
   "cell_type": "markdown",
   "metadata": {},
   "source": [
    "# Reading historical data"
   ]
  },
  {
   "cell_type": "code",
   "execution_count": 3,
   "metadata": {},
   "outputs": [
    {
     "name": "stderr",
     "output_type": "stream",
     "text": [
      "100%|██████████████████████████████████████████████████████████████████████████████████| 30/30 [00:33<00:00,  1.10s/it]\n"
     ]
    }
   ],
   "source": [
    "teams = ['arizona-diamondbacks','atlanta-braves','baltimore-orioles','boston-red-sox','chicago-cubs',\n",
    "         'chicago-white-sox','cincinnati-reds','cleveland-indians','colorado-rockies','detroit-tigers',\n",
    "         'houston-astros','kansas-city-royals','los-angeles-angels','los-angeles-dodgers','miami-marlins',\n",
    "         'milwaukee-brewers','minnesota-twins','new-york-mets','new-york-yankees','oakland-athletics',\n",
    "         'philadelphia-phillies','pittsburgh-pirates','san-diego-padres','san-francisco-giants','seattle-mariners',\n",
    "         'st.-louis-cardinals','tampa-bay-rays','texas-rangers','toronto-blue-jays','washington-nationals',\n",
    "         ]\n",
    "# seasons = ['2006','2007','2008','2009','2010','2011','2012','2013','2014','2015','2016','2017','2018','2019','2020',]\n",
    "seasons = ['2020',]\n",
    "\n",
    "my_columns = ['Season','Team','Date', 'VS', 'Score', 'Team Starter', 'VS Starter', 'Team Line', 'O/U']\n",
    "\n",
    "df = pd.DataFrame(columns = my_columns)\n",
    "\n",
    "for team in tqdm(teams):\n",
    "    for season in seasons: \n",
    "        r = pd.read_html(f'https://www.covers.com/sport/baseball/mlb/teams/main/{team}/{season}', match='Regular Season')\n",
    "        r[0].insert(0,'Season',int)\n",
    "        r[0].insert(1,'Team',int)\n",
    "        r[0]['Season'] = season\n",
    "        r[0]['Team'] = team\n",
    "        r[0].columns = my_columns\n",
    "        df = df.append(r[0])\n",
    "\n",
    "df['Date'] = df['Date']+'-'+df['Season'].astype(str)\n",
    "\n",
    "df['Date'] = pd.to_datetime(df['Date'],)\n",
    "\n"
   ]
  },
  {
   "cell_type": "code",
   "execution_count": null,
   "metadata": {},
   "outputs": [],
   "source": []
  },
  {
   "cell_type": "code",
   "execution_count": 4,
   "metadata": {},
   "outputs": [],
   "source": [
    "\n",
    "# Changing long name in team for the short name; Creating new column codeTeam and assigning the code\n",
    "df['Team'] = df['Team'].replace(to_replace=dict_longteam_to_shortteam, value=None)\n",
    "df['VS'] = df['VS'].str.replace('NEUTRAL','')"
   ]
  },
  {
   "cell_type": "code",
   "execution_count": null,
   "metadata": {},
   "outputs": [],
   "source": []
  },
  {
   "cell_type": "markdown",
   "metadata": {},
   "source": [
    "# Saving the data in csv"
   ]
  },
  {
   "cell_type": "code",
   "execution_count": 6,
   "metadata": {},
   "outputs": [],
   "source": [
    "df.to_csv('Sports_MLB_History.csv')"
   ]
  },
  {
   "cell_type": "code",
   "execution_count": null,
   "metadata": {},
   "outputs": [],
   "source": []
  }
 ],
 "metadata": {
  "kernelspec": {
   "display_name": "Python 3",
   "language": "python",
   "name": "python3"
  },
  "language_info": {
   "codemirror_mode": {
    "name": "ipython",
    "version": 3
   },
   "file_extension": ".py",
   "mimetype": "text/x-python",
   "name": "python",
   "nbconvert_exporter": "python",
   "pygments_lexer": "ipython3",
   "version": "3.8.5"
  }
 },
 "nbformat": 4,
 "nbformat_minor": 4
}
