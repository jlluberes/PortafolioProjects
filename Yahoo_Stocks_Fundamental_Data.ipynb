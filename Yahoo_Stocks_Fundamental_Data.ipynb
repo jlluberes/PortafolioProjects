{
 "cells": [
  {
   "cell_type": "code",
   "execution_count": 1,
   "metadata": {},
   "outputs": [],
   "source": [
    "import requests\n",
    "from bs4 import BeautifulSoup\n",
    "import pandas as pd\n",
    "from tqdm import tqdm\n",
    "from time import sleep\n",
    "import datetime as dt\n",
    "import yfinance as yf\n",
    "import yahoo_fin.stock_info as si\n"
   ]
  },
  {
   "cell_type": "code",
   "execution_count": 8,
   "metadata": {},
   "outputs": [],
   "source": [
    "import winsound\n",
    "duration = 1000  # milliseconds\n",
    "freq = 440  # Hz"
   ]
  },
  {
   "cell_type": "code",
   "execution_count": null,
   "metadata": {},
   "outputs": [],
   "source": []
  },
  {
   "cell_type": "code",
   "execution_count": 2,
   "metadata": {},
   "outputs": [
    {
     "data": {
      "text/plain": [
       "'2021-06-20'"
      ]
     },
     "execution_count": 2,
     "metadata": {},
     "output_type": "execute_result"
    }
   ],
   "source": [
    "today = (dt.date.today()).strftime('%Y-%m-%d')\n",
    "today"
   ]
  },
  {
   "cell_type": "code",
   "execution_count": 4,
   "metadata": {},
   "outputs": [],
   "source": []
  },
  {
   "cell_type": "code",
   "execution_count": 3,
   "metadata": {},
   "outputs": [],
   "source": [
    "dow_list = si.tickers_dow()\n",
    "sp500_list = si.tickers_sp500()\n",
    "nasdaq_list = si.tickers_nasdaq()\n",
    "tickers_other = si.tickers_other()"
   ]
  },
  {
   "cell_type": "code",
   "execution_count": 4,
   "metadata": {},
   "outputs": [
    {
     "name": "stdout",
     "output_type": "stream",
     "text": [
      "30\n",
      "505\n",
      "4764\n",
      "6044\n"
     ]
    }
   ],
   "source": [
    "print(len(dow_list))\n",
    "print(len(sp500_list))\n",
    "print(len(nasdaq_list))\n",
    "print(len(tickers_other))"
   ]
  },
  {
   "cell_type": "code",
   "execution_count": 6,
   "metadata": {},
   "outputs": [],
   "source": []
  },
  {
   "cell_type": "code",
   "execution_count": null,
   "metadata": {},
   "outputs": [],
   "source": []
  },
  {
   "cell_type": "markdown",
   "metadata": {},
   "source": [
    "# Getting columns names from Yahoo Finance"
   ]
  },
  {
   "cell_type": "code",
   "execution_count": 5,
   "metadata": {},
   "outputs": [],
   "source": [
    "#To extract the columns names and define the headers:\n",
    "d = pd.read_html(f'https://finance.yahoo.com/quote/AMZN/?p=AMZN')\n",
    "y_head_table1_list = d[0][0].tolist()\n",
    "y_head_table2_list = d[1][0].tolist()\n",
    "y_head_tables_list = y_head_table1_list + y_head_table2_list\n",
    "# y_head_tables_list\n",
    "df = pd.DataFrame(columns=y_head_tables_list)\n",
    "df.insert(0,'Symbol',int)\n",
    "y_head_tables_list = df.columns.to_list()\n"
   ]
  },
  {
   "cell_type": "code",
   "execution_count": null,
   "metadata": {},
   "outputs": [],
   "source": []
  },
  {
   "cell_type": "code",
   "execution_count": null,
   "metadata": {},
   "outputs": [],
   "source": []
  },
  {
   "cell_type": "markdown",
   "metadata": {},
   "source": [
    "# Getting ticker info from dow"
   ]
  },
  {
   "cell_type": "code",
   "execution_count": 9,
   "metadata": {},
   "outputs": [
    {
     "name": "stderr",
     "output_type": "stream",
     "text": [
      "100%|██████████████████████████████████████████████████████████████████████████████████| 30/30 [00:21<00:00,  1.40it/s]\n"
     ]
    }
   ],
   "source": [
    "#List to catch the symbols that generated an error\n",
    "dow_symbol_incorret = []\n",
    "\n",
    "#Getting the data for the symbols in the .csv\n",
    "for item in tqdm(dow_list):\n",
    "    sleep(0.01)\n",
    "    try:\n",
    "        d = pd.read_html(f'https://finance.yahoo.com/quote/{item}/?p={item}')\n",
    "        symbol_list = []\n",
    "        symbol_list.append(item)\n",
    "        y_table1_list = d[0][1].tolist()\n",
    "        y_table2_list = d[1][1].tolist()\n",
    "        y_tables_list = symbol_list + y_table1_list + y_table2_list\n",
    "        \n",
    "        df = df.append(pd.Series(y_tables_list, index=y_head_tables_list), ignore_index=True)\n",
    "    except:\n",
    "        dow_symbol_incorret.append(item)\n",
    "        \n",
    "winsound.Beep(freq, duration)\n"
   ]
  },
  {
   "cell_type": "code",
   "execution_count": 14,
   "metadata": {},
   "outputs": [],
   "source": []
  },
  {
   "cell_type": "markdown",
   "metadata": {},
   "source": [
    "## Displaying incorrect symbols"
   ]
  },
  {
   "cell_type": "code",
   "execution_count": 10,
   "metadata": {},
   "outputs": [
    {
     "name": "stdout",
     "output_type": "stream",
     "text": [
      "0\n",
      "[]\n"
     ]
    }
   ],
   "source": [
    "# Displaying incorrect symbols\n",
    "print(len(dow_symbol_incorret))\n",
    "print(dow_symbol_incorret)"
   ]
  },
  {
   "cell_type": "code",
   "execution_count": null,
   "metadata": {},
   "outputs": [],
   "source": []
  },
  {
   "cell_type": "code",
   "execution_count": 11,
   "metadata": {},
   "outputs": [],
   "source": [
    "#Convertig columns from string to numeric\n",
    "df['1y Target Est'] = df['1y Target Est'].apply(pd.to_numeric, errors='coerce')\n",
    "df['Previous Close'] = df['Previous Close'].apply(pd.to_numeric, errors='coerce')\n",
    "df['Open'] = df['Open'].apply(pd.to_numeric, errors='coerce')\n",
    "\n",
    "#Calculating the Yahoor Ratio based on the Open Price and 1-Year-Target\n",
    "df['Yahoo Ratio'] = (df['1y Target Est']) / (df['Open'])\n"
   ]
  },
  {
   "cell_type": "code",
   "execution_count": 13,
   "metadata": {},
   "outputs": [],
   "source": [
    "# Saving data to csv\n",
    "df.to_csv(f'yahoo_dow_{today}.csv', index=False)"
   ]
  },
  {
   "cell_type": "code",
   "execution_count": null,
   "metadata": {},
   "outputs": [],
   "source": []
  },
  {
   "cell_type": "markdown",
   "metadata": {},
   "source": [
    "# Getting ticker info from sp500"
   ]
  },
  {
   "cell_type": "code",
   "execution_count": 17,
   "metadata": {},
   "outputs": [
    {
     "name": "stderr",
     "output_type": "stream",
     "text": [
      "100%|████████████████████████████████████████████████████████████████████████████████| 505/505 [13:41<00:00,  1.63s/it]\n"
     ]
    }
   ],
   "source": [
    "#List to catch the symbols that generated an error\n",
    "sp500_symbol_incorret = []\n",
    "\n",
    "#Getting the data for the symbols in the .csv\n",
    "for item in tqdm(sp500_list):\n",
    "    sleep(0.01)\n",
    "    try:\n",
    "        d = pd.read_html(f'https://finance.yahoo.com/quote/{item}/?p={item}')\n",
    "        symbol_list = []\n",
    "        symbol_list.append(item)\n",
    "        y_table1_list = d[0][1].tolist()\n",
    "        y_table2_list = d[1][1].tolist()\n",
    "        y_tables_list = symbol_list + y_table1_list + y_table2_list\n",
    "        \n",
    "        df = df.append(pd.Series(y_tables_list, index=y_head_tables_list), ignore_index=True)\n",
    "    except:\n",
    "        sp500_symbol_incorret.append(item)\n",
    "        \n",
    "winsound.Beep(freq, duration)\n"
   ]
  },
  {
   "cell_type": "code",
   "execution_count": null,
   "metadata": {},
   "outputs": [],
   "source": []
  },
  {
   "cell_type": "markdown",
   "metadata": {},
   "source": [
    "## Displaying incorrect symbols"
   ]
  },
  {
   "cell_type": "code",
   "execution_count": 18,
   "metadata": {},
   "outputs": [
    {
     "name": "stdout",
     "output_type": "stream",
     "text": [
      "0\n",
      "[]\n"
     ]
    }
   ],
   "source": [
    "# Displaying incorrect symbols\n",
    "print(len(sp500_symbol_incorret))\n",
    "print(sp500_symbol_incorret)"
   ]
  },
  {
   "cell_type": "code",
   "execution_count": null,
   "metadata": {},
   "outputs": [],
   "source": []
  },
  {
   "cell_type": "code",
   "execution_count": 19,
   "metadata": {},
   "outputs": [],
   "source": [
    "#Convertig columns from string to numeric\n",
    "df['1y Target Est'] = df['1y Target Est'].apply(pd.to_numeric, errors='coerce')\n",
    "df['Previous Close'] = df['Previous Close'].apply(pd.to_numeric, errors='coerce')\n",
    "df['Open'] = df['Open'].apply(pd.to_numeric, errors='coerce')\n",
    "\n",
    "#Calculating the Yahoor Ratio based on the Open Price and 1-Year-Target\n",
    "df['Yahoo Ratio'] = (df['1y Target Est']) / (df['Open'])\n"
   ]
  },
  {
   "cell_type": "code",
   "execution_count": 20,
   "metadata": {},
   "outputs": [],
   "source": [
    "# Saving data to csv\n",
    "df.to_csv(f'yahoo_sp500_{today}.csv', index=False)"
   ]
  },
  {
   "cell_type": "code",
   "execution_count": null,
   "metadata": {},
   "outputs": [],
   "source": []
  },
  {
   "cell_type": "markdown",
   "metadata": {},
   "source": [
    "# Getting ticker info from sp500"
   ]
  },
  {
   "cell_type": "code",
   "execution_count": 21,
   "metadata": {},
   "outputs": [
    {
     "name": "stderr",
     "output_type": "stream",
     "text": [
      "100%|████████████████████████████████████████████████████████████████████████████| 4764/4764 [2:22:07<00:00,  1.79s/it]\n"
     ]
    }
   ],
   "source": [
    "#List to catch the symbols that generated an error\n",
    "nasdaq_symbol_incorret = []\n",
    "\n",
    "#Getting the data for the symbols in the .csv\n",
    "for item in tqdm(nasdaq_list):\n",
    "    sleep(0.01)\n",
    "    try:\n",
    "        d = pd.read_html(f'https://finance.yahoo.com/quote/{item}/?p={item}')\n",
    "        symbol_list = []\n",
    "        symbol_list.append(item)\n",
    "        y_table1_list = d[0][1].tolist()\n",
    "        y_table2_list = d[1][1].tolist()\n",
    "        y_tables_list = symbol_list + y_table1_list + y_table2_list\n",
    "        \n",
    "        df = df.append(pd.Series(y_tables_list, index=y_head_tables_list), ignore_index=True)\n",
    "    except:\n",
    "        nasdaq_symbol_incorret.append(item)\n",
    "        \n",
    "winsound.Beep(freq, duration)\n"
   ]
  },
  {
   "cell_type": "code",
   "execution_count": null,
   "metadata": {},
   "outputs": [],
   "source": []
  },
  {
   "cell_type": "markdown",
   "metadata": {},
   "source": [
    "## Displaying incorrect symbols"
   ]
  },
  {
   "cell_type": "code",
   "execution_count": 22,
   "metadata": {},
   "outputs": [
    {
     "name": "stdout",
     "output_type": "stream",
     "text": [
      "9\n",
      "['BSKY', 'BSKYW', 'MCAE', 'MCAER', 'ZAZZT', 'ZBZZT', 'ZCZZT', 'ZVZZC', 'ZXYZ.A']\n"
     ]
    }
   ],
   "source": [
    "# Displaying incorrect symbols\n",
    "print(len(nasdaq_symbol_incorret))\n",
    "print(nasdaq_symbol_incorret)"
   ]
  },
  {
   "cell_type": "code",
   "execution_count": null,
   "metadata": {},
   "outputs": [],
   "source": []
  },
  {
   "cell_type": "code",
   "execution_count": 23,
   "metadata": {},
   "outputs": [],
   "source": [
    "#Convertig columns from string to numeric\n",
    "df['1y Target Est'] = df['1y Target Est'].apply(pd.to_numeric, errors='coerce')\n",
    "df['Previous Close'] = df['Previous Close'].apply(pd.to_numeric, errors='coerce')\n",
    "df['Open'] = df['Open'].apply(pd.to_numeric, errors='coerce')\n",
    "\n",
    "#Calculating the Yahoor Ratio based on the Open Price and 1-Year-Target\n",
    "df['Yahoo Ratio'] = (df['1y Target Est']) / (df['Open'])\n"
   ]
  },
  {
   "cell_type": "code",
   "execution_count": null,
   "metadata": {},
   "outputs": [],
   "source": []
  },
  {
   "cell_type": "code",
   "execution_count": 24,
   "metadata": {},
   "outputs": [],
   "source": [
    "# Saving data to csv\n",
    "df.to_csv(f'yahoo_nasdaq_{today}.csv', index=False)"
   ]
  },
  {
   "cell_type": "code",
   "execution_count": null,
   "metadata": {},
   "outputs": [],
   "source": []
  },
  {
   "cell_type": "markdown",
   "metadata": {},
   "source": [
    "# Getting ticker info from others tickers"
   ]
  },
  {
   "cell_type": "code",
   "execution_count": 25,
   "metadata": {},
   "outputs": [
    {
     "name": "stderr",
     "output_type": "stream",
     "text": [
      "100%|████████████████████████████████████████████████████████████████████████████| 6044/6044 [3:18:32<00:00,  1.97s/it]\n"
     ]
    }
   ],
   "source": [
    "#List to catch the symbols that generated an error\n",
    "tickers_other_symbol_incorret = []\n",
    "\n",
    "#Getting the data for the symbols in the .csv\n",
    "for item in tqdm(tickers_other):\n",
    "    sleep(0.01)\n",
    "    try:\n",
    "        d = pd.read_html(f'https://finance.yahoo.com/quote/{item}/?p={item}')\n",
    "        symbol_list = []\n",
    "        symbol_list.append(item)\n",
    "        y_table1_list = d[0][1].tolist()\n",
    "        y_table2_list = d[1][1].tolist()\n",
    "        y_tables_list = symbol_list + y_table1_list + y_table2_list\n",
    "        \n",
    "        df = df.append(pd.Series(y_tables_list, index=y_head_tables_list), ignore_index=True)\n",
    "    except:\n",
    "        tickers_other_symbol_incorret.append(item)\n",
    "        \n",
    "winsound.Beep(freq, duration)\n"
   ]
  },
  {
   "cell_type": "code",
   "execution_count": null,
   "metadata": {},
   "outputs": [],
   "source": []
  },
  {
   "cell_type": "markdown",
   "metadata": {},
   "source": [
    "## Displaying incorrect symbols"
   ]
  },
  {
   "cell_type": "code",
   "execution_count": 26,
   "metadata": {},
   "outputs": [
    {
     "name": "stdout",
     "output_type": "stream",
     "text": [
      "966\n",
      "['AAC.U', 'AAC.W', 'AAIC$B', 'AAIC$C', 'AAQC.U', 'AAQC.W', 'ABR$A', 'ABR$B', 'ABR$C', 'ABR$D', 'ACIC.U', 'ACIC.W', 'ACII.U', 'ACII.W', 'ACND.U', 'ACND.W', 'ACP$A', 'ACR$C', 'ACR$D', 'ADEX.U', 'ADEX.W', 'ADF.U', 'ADF.W', 'ADRA.U', 'ADRA.W', 'AEL$A', 'AEL$B', 'AEVA.W', 'AGAC.U', 'AGAC.W', 'AGM$C', 'AGM$D', 'AGM$E', 'AGM$F', 'AGM$G', 'AGM.A', 'AGO$B', 'AGO$E', 'AGO$F', 'AHH$A', 'AHL$C', 'AHL$D', 'AHL$E', 'AHT$D', 'AHT$F', 'AHT$G', 'AHT$H', 'AHT$I', 'AIG$A', 'AJAX.U', 'AJAX.W', 'AKO.A', 'AKO.B', 'AL$A', 'ALIN$A', 'ALIN$B', 'ALIN$E', 'ALL$B', 'ALL$G', 'ALL$H', 'ALL$I', 'ALLY$A', 'ALP$Q', 'ALTG$A', 'ALUS.U', 'ALUS.W', 'AMBC.W', 'AMH$E', 'AMH$F', 'AMH$G', 'AMH$H', 'AMPI.U', 'AMPI.W', 'ANAC.U', 'ANAC.W', 'AONE.U', 'AONE.W', 'AP.W', 'APGB.U', 'APGB.W', 'APO$A', 'APO$B', 'APSG.U', 'APSG.W', 'APTV$A', 'ARES$A', 'ARGO$A', 'ARR$C', 'ASAQ.U', 'ASAQ.W', 'ASB$D', 'ASB$E', 'ASB$F', 'ASPL.U', 'ASPL.W', 'ASZ.U', 'ASZ.W', 'ATA.U', 'ATA.W', 'ATAQ.U', 'ATAQ.W', 'ATCO$D', 'ATCO$E', 'ATCO$G', 'ATCO$H', 'ATCO$I', 'ATEST.A', 'ATEST.B', 'ATEST.C', 'ATH$A', 'ATH$B', 'ATH$C', 'ATH$D', 'ATHN.U', 'ATHN.W', 'ATIP.W', 'ATMR.U', 'ATMR.W', 'AUS.U', 'AUS.W', 'AVAN.U', 'AVAN.W', 'AVTR$A', 'AXS$E', 'BAC$B', 'BAC$E', 'BAC$K', 'BAC$L', 'BAC$M', 'BAC$N', 'BAC$O', 'BAC$P', 'BANC$E', 'BARK.W', 'BC$A', 'BC$B', 'BC$C', 'BCV$A', 'BEP$A', 'BFLY.W', 'BFS$D', 'BFS$E', 'BGSX.U', 'BGSX.W', 'BH.A', 'BHR$B', 'BHR$D', 'BIP$A', 'BIP$B', 'BITE.U', 'BITE.W', 'BLUA.U', 'BLUA.W', 'BML$G', 'BML$H', 'BML$J', 'BML$L', 'BMTX.W', 'BOAC.U', 'BOAC.W', 'BOAS.U', 'BOAS.W', 'BOH$A', 'BRG$C', 'BRG$D', 'BRMK.W', 'BSN.U', 'BSN.W', 'BSX$A', 'BW$A', 'BWL.A', 'BXS$A', 'C$J', 'C$K', 'C$N', 'CAI$A', 'CAI$B', 'CANO.W', 'CAP.U', 'CAP.W', 'CAS.U', 'CAS.W', 'CBAH.U', 'CBAH.W', 'CBB$B', 'CBO', 'CCAC.U', 'CCAC.W', 'CCIV.U', 'CCIV.W', 'CCV.U', 'CCV.W', 'CCVI.U', 'CCVI.W', 'CDR$B', 'CDR$C', 'CELG.R', 'CEQP$', 'CFG$D', 'CFG$E', 'CFR$B', 'CHAA.U', 'CHAA.W', 'CHAQ.U', 'CHAQ.W', 'CHFW.U', 'CHFW.W', 'CHMI$A', 'CHMI$B', 'CHPT.W', 'CIG.C', 'CIM$A', 'CIM$B', 'CIM$C', 'CIM$D', 'CIO$A', 'CIT$B', 'CLAA.U', 'CLAA.W', 'CLAS.U', 'CLAS.W', 'CLBR.U', 'CLII.U', 'CLII.W', 'CLIM.U', 'CLIM.W', 'CLNY$G', 'CLNY$H', 'CLNY$I', 'CLNY$J', 'CLVT$A', 'CMO$E', 'CMRE$B', 'CMRE$C', 'CMRE$D', 'CMRE$E', 'CMS$B', 'CND.U', 'CND.W', 'CNO$A', 'CNP$B', 'CODI$A', 'CODI$B', 'CODI$C', 'COF$G', 'COF$H', 'COF$I', 'COF$J', 'COF$K', 'COF$L', 'CORR$A', 'CPSR.U', 'CPSR.W', 'CPTK.U', 'CPTK.W', 'CPUH.U', 'CPUH.W', 'CRD.A', 'CRHC.U', 'CRHC.W', 'CRU.U', 'CRU.W', 'CSR$C', 'CSTA.U', 'CSTA.W', 'CTA$A', 'CTA$B', 'CTAC.U', 'CTAC.W', 'CTEST.E', 'CTEST.G', 'CTEST.L', 'CTEST.O', 'CTEST.S', 'CTEST.V', 'CTOS.W', 'CUBI$C', 'CUBI$D', 'CUBI$E', 'CUBI$F', 'CVE.W', 'CVII.U', 'CVII.W', 'CWEN.A', 'DCP$B', 'DCP$C', 'DEH.U', 'DEH.W', 'DFNS.U', 'DFNS.W', 'DGNR.U', 'DGNR.W', 'DHR$A', 'DHR$B', 'DLNG$A', 'DLNG$B', 'DLR$J', 'DLR$K', 'DLR$L', 'DMS.W', 'DMYI.U', 'DMYI.W', 'DMYQ.U', 'DMYQ.W', 'DNZ.U', 'DNZ.W', 'DRH$A', 'DS$B', 'DS$C', 'DS$D', 'DSX$B', 'DTLA$', 'DTM.V', 'DUK$A', 'DWIN.U', 'DWIN.W', 'DX$C', 'EBR.B', 'ECF$A', 'EFC$A', 'EGGF.U', 'EMPW.U', 'EMPW.W', 'ENPC.U', 'ENPC.W', 'ENR$A', 'EP$C', 'EPR$C', 'EPR$E', 'EPR$G', 'EPWR.U', 'EPWR.W', 'EQC$D', 'EQD.U', 'EQD.W', 'EQH$A', 'EQH$C', 'EQHA.U', 'EQHA.W', 'ESM.U', 'ESM.W', 'ET$C', 'ET$D', 'ET$E', 'ETI$', 'ETWO.W', 'F$B', 'F$C', 'FACA.U', 'FACA.W', 'FACT.U', 'FACT.W', 'FCAX.U', 'FCAX.W', 'FGNA.U', 'FGNA.W', 'FHN$A', 'FHN$B', 'FHN$C', 'FHN$D', 'FHN$E', 'FHN$F', 'FLME.U', 'FLME.W', 'FMAC.U', 'FMAC.W', 'FNB$E', 'FOA.W', 'FPAC.U', 'FPAC.W', 'FPI$B', 'FRC$H', 'FRC$I', 'FRC$J', 'FRC$K', 'FRC$L', 'FRT$C', 'FRX.U', 'FRX.W', 'FRXB.U', 'FRXB.W', 'FSNB.U', 'FSNB.W', 'FST.U', 'FST.W', 'FTAI$A', 'FTAI$B', 'FTAI$C', 'FTEV.U', 'FTEV.W', 'FTV$A', 'FUSE.U', 'FUSE.W', 'FVIV.U', 'FVIV.W', 'FVT.U', 'FVT.W', 'FZT.U', 'FZT.W', 'GAB$G', 'GAB$H', 'GAB$J', 'GAB$K', 'GAB.R', 'GAM$B', 'GAPA.U', 'GAPA.W', 'GB.W', 'GDL$C', 'GDV$G', 'GDV$H', 'GENI.W', 'GFOR.U', 'GFX.U', 'GFX.W', 'GGN$B', 'GGO$A', 'GGT$E', 'GGT$G', 'GGZ$A', 'GL$C', 'GLEO.U', 'GLEO.W', 'GLO.R', 'GLOG$A', 'GLOP$A', 'GLOP$B', 'GLOP$C', 'GLP$A', 'GLP$B', 'GLQ.R', 'GLU$A', 'GLU$B', 'GLV.R', 'GMRE$A', 'GNE$A', 'GNL$A', 'GNL$B', 'GNPK.U', 'GNPK.W', 'GNT$A', 'GOAC.U', 'GOAC.W', 'GOED.W', 'GROY.W', 'GRP.U', 'GS$A', 'GS$C', 'GS$D', 'GS$J', 'GS$K', 'GSAH.U', 'GSAH.W', 'GSL$B', 'GSQB.U', 'GSQD.U', 'GSQD.W', 'GTN.A', 'GUT$A', 'GUT$C', 'HFRO$A', 'HHLA.U', 'HHLA.W', 'HIG$G', 'HIGA.U', 'HIGA.W', 'HIMS.W', 'HL$B', 'HLM$', 'HMLP$A', 'HPX.U', 'HPX.W', 'HT$C', 'HT$D', 'HT$E', 'HTPA.U', 'HTPA.W', 'HUGS.U', 'HUGS.W', 'HVT.A', 'HWM$', 'HZAC.U', 'HZAC.W', 'HZON.U', 'HZON.W', 'IACA.U', 'IACA.W', 'IACB.U', 'IACB.W', 'IBER.U', 'IBER.W', 'IBO', 'IGZ', 'IIAC.U', 'IIAC.W', 'IIPR$A', 'IMPX.U', 'IMPX.W', 'INN$D', 'INN$E', 'INSW$A', 'IPOD.U', 'IPOD.W', 'IPOF.U', 'IPOF.W', 'IPVA.U', 'IPVA.W', 'IPVF.U', 'IPVF.W', 'IRS.W', 'ISOS.U', 'ISOS.W', 'IVAN.U', 'IVAN.W', 'IVR$B', 'IVR$C', 'JBI.W', 'JPM$C', 'JPM$D', 'JPM$J', 'JPM$K', 'JPM$L', 'JW.B', 'JWSM.U', 'JWSM.W', 'KAHC.U', 'KAHC.W', 'KCAC.U', 'KCAC.W', 'KEY$I', 'KEY$J', 'KEY$K', 'KIM$L', 'KIM$M', 'KKR$B', 'KKR$C', 'KLR.W', 'KREF$A', 'KSU$', 'KWAC.U', 'KWAC.W', 'LEAP.U', 'LEAP.W', 'LEV.W', 'LFT$A', 'LGF.A', 'LGL.W', 'LGV.U', 'LGV.W', 'LHC.U', 'LHC.W', 'LIII.U', 'LIII.W', 'LNFA.U', 'LNFA.W', 'LOKB.U', 'LOKB.W', 'LOKM.U', 'LOKM.W', 'LXP$C', 'MAA$I', 'MACC.U', 'MACC.W', 'MBAC.U', 'MBAC.W', 'MDH.U', 'MDH.W', 'MER$K', 'MET$A', 'MET$E', 'MET$F', 'MFA$B', 'MFA$C', 'MH$A', 'MH$C', 'MH$D', 'MIT.U', 'MIT.W', 'MITT$A', 'MITT$B', 'MITT$C', 'MKC.V', 'MNR$C', 'MOG.B', 'MOTV.U', 'MOTV.W', 'MPLN.W', 'MS$A', 'MS$E', 'MS$F', 'MS$I', 'MS$K', 'MS$L', 'MTL$', 'NAV$D', 'NBA.U', 'NBA.W', 'NCV$A', 'NCZ$A', 'NEE$K', 'NEE$N', 'NEE$O', 'NEE$P', 'NEE$Q', 'NFH.W', 'NGAB.U', 'NGAB.W', 'NGC.U', 'NGC.W', 'NGL$B', 'NGL$C', 'NHF$A', 'NI$B', 'NLY$F', 'NLY$G', 'NLY$I', 'NM$G', 'NM$H', 'NMK$B', 'NMK$C', 'NNN$F', 'NREF$A', 'NRZ$A', 'NRZ$B', 'NRZ$C', 'NS$A', 'NS$B', 'NS$C', 'NSA$A', 'NSH.U', 'NSH.W', 'NSTB.U', 'NSTB.W', 'NSTC.U', 'NSTC.W', 'NSTD.U', 'NSTD.W', 'NTEST.A', 'NTEST.B', 'NTEST.C', 'NUVB.W', 'NXU.U', 'NXU.W', 'NYCB$A', 'NYCB$U', 'OACB.U', 'OACB.W', 'OAK$A', 'OAK$B', 'OCA.U', 'OCA.W', 'OFG$D', 'OIBR.C', 'OPA.U', 'OPA.W', 'OPP$A', 'OSI.U', 'OUST.W', 'OWL.W', 'OXY.W', 'PACE.U', 'PACE.W', 'PBI$B', 'PBR.A', 'PCG$A', 'PCG$B', 'PCG$C', 'PCG$D', 'PCG$E', 'PCG$G', 'PCG$H', 'PCG$I', 'PCPC.U', 'PCPC.W', 'PDAC.U', 'PDAC.W', 'PDOT.U', 'PDOT.W', 'PEB$C', 'PEB$D', 'PEB$E', 'PEB$F', 'PEB$G', 'PEI$B', 'PEI$C', 'PEI$D', 'PHGE.U', 'PHGE.W', 'PIAI.U', 'PIAI.W', 'PICC.U', 'PICC.W', 'PIPP.U', 'PIPP.W', 'PLYM$A', 'PMT$A', 'PMT$B', 'PMVC.U', 'PMVC.W', 'PNC$P', 'PNTM.U', 'PNTM.W', 'POND.U', 'PRE$J', 'PRIF$A', 'PRIF$D', 'PRIF$E', 'PRIF$F', 'PRIF$G', 'PRIF$H', 'PRPB.U', 'PRPB.W', 'PRPC.U', 'PRPC.W', 'PSA$C', 'PSA$D', 'PSA$E', 'PSA$F', 'PSA$G', 'PSA$H', 'PSA$I', 'PSA$J', 'PSA$K', 'PSA$L', 'PSA$M', 'PSA$N', 'PSA$O', 'PSA$P', 'PSB$W', 'PSB$X', 'PSB$Y', 'PSB$Z', 'PSFE.W', 'PSPC.U', 'PSTH.W', 'PTK.U', 'PTK.W', 'PUK$', 'PUK$A', 'PV.U', 'PV.W', 'PW$A', 'QFTA.U', 'QFTA.W', 'QS.W', 'QTS$A', 'QTS$B', 'RBAC.U', 'RBAC.W', 'RC$B', 'RC$C', 'RC$D', 'RC$E', 'REXR$A', 'REXR$B', 'REXR$C', 'RF$B', 'RF$C', 'RF$E', 'RHE$A', 'RICE.U', 'RICE.W', 'RKTA.U', 'RKTA.W', 'RLJ$A', 'RMPL$', 'RNR$E', 'RNR$F', 'RONI.U', 'ROSS.U', 'ROSS.W', 'ROT.U', 'ROT.W', 'RPT$D', 'RTP.U', 'RTP.W', 'RTPZ.U', 'RTPZ.W', 'RY$T', 'SB$C', 'SB$D', 'SBEV.W', 'SBG.U', 'SBG.W', 'SBII.U', 'SBII.W', 'SCE$G', 'SCE$H', 'SCE$J', 'SCE$K', 'SCE$L', 'SCHW$D', 'SCHW$J', 'SCPE.U', 'SCPE.W', 'SCVX.U', 'SCVX.W', 'SEAH.U', 'SEAH.W', 'SF$A', 'SF$B', 'SF$C', 'SFTW.U', 'SFTW.W', 'SHO$F', 'SHO$H', 'SITC$A', 'SKIL.W', 'SKLZ.W', 'SLAC.U', 'SLAC.W', 'SLG$I', 'SNII.U', 'SNII.W', 'SNPR.U', 'SNPR.W', 'SNV$D', 'SNV$E', 'SOAC.U', 'SOAC.W', 'SPAQ.U', 'SPAQ.W', 'SPE$B', 'SPFR.U', 'SPFR.W', 'SPG$J', 'SPGS.U', 'SPGS.W', 'SPLP$A', 'SPNV.U', 'SPNV.W', 'SPRQ.U', 'SPRQ.W', 'SR$A', 'SRC$A', 'SRE$B', 'SRG$A', 'STAR$D', 'STAR$G', 'STAR$I', 'STEM.W', 'STL$A', 'STPC.U', 'STPC.W', 'STRE.U', 'STRE.W', 'STT$D', 'STT$G', 'SWBK.U', 'SWBK.W', 'SYF$A', 'T$A', 'T$C', 'TACA.U', 'TACA.W', 'TAP.A', 'TDS$U', 'TDW.A', 'TDW.W', 'TFC$I', 'TFC$O', 'TFC$R', 'TGH$A', 'TGP$A', 'TGP$B', 'TINV.U', 'TINV.W', 'TLGA.U', 'TLGA.W', 'TMAC.U', 'TMAC.W', 'TNP$D', 'TNP$E', 'TNP$F', 'TPGY.U', 'TPGY.W', 'TRCA.U', 'TRCA.W', 'TREB.U', 'TREB.W', 'TRTN$A', 'TRTN$B', 'TRTN$C', 'TRTN$D', 'TRTX$C', 'TSPQ.U', 'TSPQ.W', 'TWND.U', 'TWND.W', 'TWNI.U', 'TWNI.W', 'TWNT.U', 'TWNT.W', 'TWO$A', 'TWO$B', 'TWO$C', 'TY$', 'UBP$H', 'UBP$K', 'UMH$C', 'UMH$D', 'UPH.W', 'USB$A', 'USB$H', 'USB$M', 'USB$P', 'USB$Q', 'USB$R', 'UUUU.W', 'UWMC.W', 'VAL.W', 'VER$F', 'VGII.U', 'VGII.W', 'VHAQ.R', 'VHAQ.U', 'VHAQ.W', 'VNO$K', 'VNO$L', 'VNO$M', 'VNO$N', 'VOYA$B', 'VPCC.U', 'VPCC.W', 'VST.A', 'VYGG.U', 'VYGG.W', 'WARR.U', 'WARR.W', 'WBS$F', 'WCC$A', 'WFC$A', 'WFC$C', 'WFC$L', 'WFC$O', 'WFC$Q', 'WFC$R', 'WFC$X', 'WFC$Y', 'WFC$Z', 'WPCA.U', 'WPCA.W', 'WPCB.U', 'WPCB.W', 'WPF.U', 'WPF.W', 'WPG$H', 'WPG$I', 'WRB$E', 'WRB$F', 'WRB$G', 'WRB$H', 'WSO.B', 'XFLT$A', 'XPOA.U', 'XPOA.W', 'YAC.U', 'YAC.W', 'YCBD$A', 'ZBZX', 'ZEV.W', 'ZEXIT', 'ZIEXT', 'ZTEST', 'ZXIET', '']\n"
     ]
    }
   ],
   "source": [
    "# Displaying incorrect symbols\n",
    "print(len(tickers_other_symbol_incorret))\n",
    "print(tickers_other_symbol_incorret)"
   ]
  },
  {
   "cell_type": "code",
   "execution_count": null,
   "metadata": {},
   "outputs": [],
   "source": []
  },
  {
   "cell_type": "code",
   "execution_count": 27,
   "metadata": {},
   "outputs": [],
   "source": [
    "#Convertig columns from string to numeric\n",
    "df['1y Target Est'] = df['1y Target Est'].apply(pd.to_numeric, errors='coerce')\n",
    "df['Previous Close'] = df['Previous Close'].apply(pd.to_numeric, errors='coerce')\n",
    "df['Open'] = df['Open'].apply(pd.to_numeric, errors='coerce')\n",
    "\n",
    "#Calculating the Yahoor Ratio based on the Open Price and 1-Year-Target\n",
    "df['Yahoo Ratio'] = (df['1y Target Est']) / (df['Open'])\n"
   ]
  },
  {
   "cell_type": "code",
   "execution_count": null,
   "metadata": {},
   "outputs": [],
   "source": []
  },
  {
   "cell_type": "code",
   "execution_count": 28,
   "metadata": {},
   "outputs": [],
   "source": [
    "# Saving data to csv\n",
    "df.to_csv(f'yahoo_tickers_other_{today}.csv', index=False)"
   ]
  }
 ],
 "metadata": {
  "kernelspec": {
   "display_name": "Python 3",
   "language": "python",
   "name": "python3"
  },
  "language_info": {
   "codemirror_mode": {
    "name": "ipython",
    "version": 3
   },
   "file_extension": ".py",
   "mimetype": "text/x-python",
   "name": "python",
   "nbconvert_exporter": "python",
   "pygments_lexer": "ipython3",
   "version": "3.8.5"
  }
 },
 "nbformat": 4,
 "nbformat_minor": 4
}
