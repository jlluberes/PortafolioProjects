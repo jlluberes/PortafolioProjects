{
 "cells": [
  {
   "cell_type": "code",
   "execution_count": 1,
   "metadata": {},
   "outputs": [],
   "source": [
    "import numpy as np\n",
    "import requests\n",
    "from bs4 import BeautifulSoup\n",
    "import pandas as pd\n",
    "from tqdm import tqdm\n",
    "import datetime as dt\n"
   ]
  },
  {
   "cell_type": "markdown",
   "metadata": {},
   "source": [
    "# Defining teams and codes"
   ]
  },
  {
   "cell_type": "code",
   "execution_count": 2,
   "metadata": {},
   "outputs": [],
   "source": [
    "dict_longteam_to_shortteam = {'anaheim-ducks':'ANA','arizona-coyotes':'ARI','boston-bruins':'BOS','buffalo-sabres':'BUF',\n",
    "                              'calgary-flames':'CAL','carolina-hurricanes':'CAR','chicago-blackhawks':'CHI','columbus-blue-jackets':'CLB',\n",
    "                              'colorado-avalanche':'COL','dallas-stars':'DAL','detroit-red-wings':'DET','edmonton-oilers':'EDM',\n",
    "                              'florida-panthers':'FLA','los-angeles-kings':'LA','minnesota-wild':'MIN','montreal-canadiens':'MON',\n",
    "                              'nashville-predators':'NAS','new-jersey-devils':'NJ','new-york-islanders':'NYI','new-york-rangers':'NYR',\n",
    "                              'ottawa-senators':'OTT','philadelphia-flyers':'PHI','pittsburgh-penguins':'PIT','san-jose-sharks':'SJ',\n",
    "                              'st.-louis-blues':'STL','tampa-bay-lightning':'TB','toronto-maple-leafs':'TOR','vancouver-canucks':'VAN',\n",
    "                              'vegas-golden-knights':'VEG','washington-capitals':'WAS','winnipeg-jets':'WIN',\n",
    "                             }\n",
    "\n",
    "dict_shortteam_to_codeteam = {'ANA':2001,'ARI':2002,'BOS':2003,'BUF':2004,'CAL':2005,'CAR':2006,\n",
    "                              'CHI':2007,'CLB':2008,'COL':2009,'DAL':2010,'DET':2011,'EDM':2012,\n",
    "                              'FLA':2013,'LA':2014,'MIN':2015,'MON':2016,'NAS':2017,'NJ':2018,\n",
    "                              'NYI':2019,'NYR':2020,'OTT':2021,'PHI':2022,'PIT':2023,'SJ':2024,\n",
    "                              'STL':2025,'TB':2026,'TOR':2027,'VAN':2028,'VEG':2029,'WAS':2030,\n",
    "                              'WIN':2031,\n",
    "                             }\n",
    "\n",
    "dict_codeteam_to_shortteam = {2001:'ANA',2002:'ARI',2003:'BOS',2004:'BUF',2005:'CAL',2006:'CAR',\n",
    "                              2007:'CHI',2008:'CLB',2009:'COL',2010:'DAL',2011:'DET',2012:'EDM',\n",
    "                              2013:'FLA',2014:'LA',2015:'MIN',2016:'MON',2017:'NAS',2018:'NJ',\n",
    "                              2019:'NYI',2020:'NYR',2021:'OTT',2022:'PHI',2023:'PIT',2024:'SJ',\n",
    "                              2025:'STL',2026:'TB',2027:'TOR',2028:'VAN',2029:'VEG',2030:'WAS',\n",
    "                              'WIN':2031,\n",
    "                             }"
   ]
  },
  {
   "cell_type": "code",
   "execution_count": null,
   "metadata": {},
   "outputs": [],
   "source": []
  },
  {
   "cell_type": "markdown",
   "metadata": {},
   "source": [
    "# Reading actual historical data"
   ]
  },
  {
   "cell_type": "code",
   "execution_count": 3,
   "metadata": {},
   "outputs": [
    {
     "name": "stderr",
     "output_type": "stream",
     "text": [
      "100%|██████████████████████████████████████████████████████████████████████████████████| 31/31 [00:30<00:00,  1.02it/s]\n"
     ]
    }
   ],
   "source": [
    "teams = ['carolina-hurricanes','chicago-blackhawks','columbus-blue-jackets','dallas-stars'\n",
    "        ,'detroit-red-wings','florida-panthers','nashville-predators','tampa-bay-lightning'\n",
    "        ,'boston-bruins','buffalo-sabres','new-jersey-devils','new-york-islanders'\n",
    "        ,'new-york-rangers','philadelphia-flyers','pittsburgh-penguins','washington-capitals'\n",
    "        ,'calgary-flames','edmonton-oilers','montreal-canadiens','ottawa-senators'\n",
    "        ,'toronto-maple-leafs','vancouver-canucks','winnipeg-jets'\n",
    "        ,'anaheim-ducks','arizona-coyotes','colorado-avalanche','los-angeles-kings'\n",
    "        ,'minnesota-wild','san-jose-sharks','st.-louis-blues','vegas-golden-knights']\n",
    "# teams = ['vegas-golden-knights']\n",
    "# seasons = ['2006-2007','2007-2008','2008-2009','2009-2010','2010-2011','2011-2012'\n",
    "#            ,'2012-2013','2013-2014','2014-2015','2015-2016','2016-2017','2017-2018','2018-2019','2019-2020',]\n",
    "seasons = ['2020-2021']\n",
    "\n",
    "team_season_incorret = []\n",
    "\n",
    "my_columns = ['Season','Team','Date', 'VS', 'Score', 'ML', 'O/U', 'Goalie', 'Opp. Goalie']\n",
    "df = pd.DataFrame(columns = my_columns)\n",
    "for team in tqdm(teams):\n",
    "    \n",
    "    for season in seasons:\n",
    "        try:\n",
    "            r = pd.read_html(f'https://www.covers.com/sport/hockey/nhl/teams/main/{team}/{season}', match='Regular Season')\n",
    "            r[0].insert(0,'Season',int)\n",
    "            r[0].insert(1,'Team',int)\n",
    "            r[0]['Season'] = season\n",
    "            r[0]['Team'] = team\n",
    "            r[0].columns = my_columns\n",
    "            df = df.append(r[0])\n",
    "        except:\n",
    "            team_season_incorret.append((team,season))\n",
    "\n",
    "# df.drop(['filled-1', 'filled-2'], axis=1, inplace=True)\n",
    "\n",
    "# Extracting the year to attach to the field Date\n",
    "year_season_star =df['Season'].str.split('-').str[0]\n",
    "year_season_end =df['Season'].str.split('-').str[1]\n",
    "\n",
    "# Attaching the year to the field Date\n",
    "df['Date'] = list(np.select([df['Date'].str[:3].isin(['Oct','Nov','Dec']), \n",
    "                             ~df['Date'].str[:3].isin(['Oct','Nov','Dec'])] , \n",
    "                            [df['Date']+'-'+year_season_star, df['Date']+'-'+year_season_end], default= 0))\n",
    "\n",
    "df['Date'] = pd.to_datetime(df['Date'],)\n",
    "df = df.iloc[::-1]\n",
    "df['GameCounter'] = df.groupby(['Team','Season']).cumcount()+1\n",
    "df.set_index('GameCounter', inplace=True)\n",
    "\n"
   ]
  },
  {
   "cell_type": "code",
   "execution_count": null,
   "metadata": {},
   "outputs": [],
   "source": []
  },
  {
   "cell_type": "code",
   "execution_count": 4,
   "metadata": {},
   "outputs": [],
   "source": [
    "# Changing long name in team for the short name; Creating new column codeTeam and assigning the code\n",
    "df['Team'] = df['Team'].replace(to_replace=dict_longteam_to_shortteam, value=None)\n",
    "df['VS'] = df['VS'].str.replace('NEUTRAL','')"
   ]
  },
  {
   "cell_type": "markdown",
   "metadata": {},
   "source": [
    "# Saving the data in csv"
   ]
  },
  {
   "cell_type": "code",
   "execution_count": 6,
   "metadata": {},
   "outputs": [],
   "source": [
    "df.to_csv('Sports_NHL_History.csv')"
   ]
  },
  {
   "cell_type": "code",
   "execution_count": null,
   "metadata": {},
   "outputs": [],
   "source": []
  }
 ],
 "metadata": {
  "kernelspec": {
   "display_name": "Python 3",
   "language": "python",
   "name": "python3"
  },
  "language_info": {
   "codemirror_mode": {
    "name": "ipython",
    "version": 3
   },
   "file_extension": ".py",
   "mimetype": "text/x-python",
   "name": "python",
   "nbconvert_exporter": "python",
   "pygments_lexer": "ipython3",
   "version": "3.8.5"
  }
 },
 "nbformat": 4,
 "nbformat_minor": 4
}
